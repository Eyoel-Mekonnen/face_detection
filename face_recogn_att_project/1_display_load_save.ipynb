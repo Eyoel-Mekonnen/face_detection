{
 "cells": [
  {
   "cell_type": "code",
   "execution_count": 2,
   "id": "ac070ed9-0898-434c-9942-c40358dfb6a1",
   "metadata": {},
   "outputs": [],
   "source": [
    "import numpy as np\n",
    "import cv2"
   ]
  },
  {
   "cell_type": "code",
   "execution_count": 39,
   "id": "84e7e6d3-8992-481f-b7cf-926b7a750adf",
   "metadata": {},
   "outputs": [],
   "source": [
    "img = cv2.imread('./images/240_F_594773641_8rrPYslOpBs62dSOWKFi1awSfyj5szni.jpg')"
   ]
  },
  {
   "cell_type": "code",
   "execution_count": 50,
   "id": "d7491eb7-28ba-4dac-939f-3252e28b9841",
   "metadata": {},
   "outputs": [
    {
     "name": "stdout",
     "output_type": "stream",
     "text": [
      "[[[108 106 236]\n",
      "  [108 106 236]\n",
      "  [108 106 236]\n",
      "  ...\n",
      "  [101 117 254]\n",
      "  [101 117 254]\n",
      "  [101 116 255]]\n",
      "\n",
      " [[109 105 234]\n",
      "  [109 105 234]\n",
      "  [109 105 234]\n",
      "  ...\n",
      "  [101 117 254]\n",
      "  [100 116 253]\n",
      "  [100 115 255]]\n",
      "\n",
      " [[110 105 228]\n",
      "  [110 105 228]\n",
      "  [110 105 228]\n",
      "  ...\n",
      "  [ 98 116 253]\n",
      "  [ 97 115 252]\n",
      "  [ 97 114 254]]\n",
      "\n",
      " ...\n",
      "\n",
      " [[114 101 139]\n",
      "  [114 101 139]\n",
      "  [116 101 139]\n",
      "  ...\n",
      "  [ 97  68 177]\n",
      "  [ 96  67 176]\n",
      "  [ 98  68 175]]\n",
      "\n",
      " [[107  97 133]\n",
      "  [108  98 134]\n",
      "  [111  99 135]\n",
      "  ...\n",
      "  [100  74 164]\n",
      "  [ 99  73 163]\n",
      "  [ 99  73 163]]\n",
      "\n",
      " [[113 104 137]\n",
      "  [114 105 138]\n",
      "  [117 105 141]\n",
      "  ...\n",
      "  [ 99  73 156]\n",
      "  [ 98  72 155]\n",
      "  [ 98  72 155]]]\n"
     ]
    }
   ],
   "source": [
    "print(img)\n"
   ]
  },
  {
   "cell_type": "code",
   "execution_count": 6,
   "id": "11a15dd2-178b-4d07-b4f6-e3ce2e5197d6",
   "metadata": {},
   "outputs": [
    {
     "data": {
      "text/plain": [
       "(240, 429, 3)"
      ]
     },
     "execution_count": 6,
     "metadata": {},
     "output_type": "execute_result"
    }
   ],
   "source": [
    "img.shape"
   ]
  },
  {
   "cell_type": "code",
   "execution_count": null,
   "id": "ae403baa-31b3-4551-933f-426e841a9390",
   "metadata": {},
   "outputs": [],
   "source": [
    "cv2.imshow('flamingo', img)\n",
    "cv2.waitKey(0)\n",
    "cv2.destroyAllWindows"
   ]
  },
  {
   "cell_type": "code",
   "execution_count": null,
   "id": "cbea7d31-8a7a-4eae-9d2d-dd42fea66caa",
   "metadata": {},
   "outputs": [],
   "source": []
  },
  {
   "cell_type": "code",
   "execution_count": null,
   "id": "a3e92067-094f-4606-b42f-bcd8a7d37c39",
   "metadata": {},
   "outputs": [],
   "source": []
  },
  {
   "cell_type": "code",
   "execution_count": null,
   "id": "44babcd0-3b03-4b67-9dea-15b9f9db335f",
   "metadata": {},
   "outputs": [],
   "source": []
  },
  {
   "cell_type": "code",
   "execution_count": null,
   "id": "d3b32379-d64e-49b3-bb49-227cc381f130",
   "metadata": {},
   "outputs": [],
   "source": []
  }
 ],
 "metadata": {
  "kernelspec": {
   "display_name": "Python 3 (ipykernel)",
   "language": "python",
   "name": "python3"
  },
  "language_info": {
   "codemirror_mode": {
    "name": "ipython",
    "version": 3
   },
   "file_extension": ".py",
   "mimetype": "text/x-python",
   "name": "python",
   "nbconvert_exporter": "python",
   "pygments_lexer": "ipython3",
   "version": "3.8.10"
  }
 },
 "nbformat": 4,
 "nbformat_minor": 5
}
